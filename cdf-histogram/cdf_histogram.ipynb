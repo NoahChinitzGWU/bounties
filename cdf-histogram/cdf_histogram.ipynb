{
 "metadata": {
  "language_info": {
   "codemirror_mode": {
    "name": "ipython",
    "version": 3
   },
   "file_extension": ".py",
   "mimetype": "text/x-python",
   "name": "python",
   "nbconvert_exporter": "python",
   "pygments_lexer": "ipython3",
   "version": "3.8.5"
  },
  "orig_nbformat": 4,
  "kernelspec": {
   "name": "python3",
   "display_name": "Python 3.8.5 64-bit"
  },
  "interpreter": {
   "hash": "916dbcbb3f70747c44a77c7bcd40155683ae19c65e1c03b4aa3499c5328201f1"
  }
 },
 "nbformat": 4,
 "nbformat_minor": 2,
 "cells": [
  {
   "cell_type": "code",
   "execution_count": 2,
   "source": [
    "# CDF-Histogram Bounty\n",
    "# Forked from https://github.com/twood02/bounties\n",
    "# Authors: Connor Burnett, Noah Chinitz, Aaron Hill\n",
    "`\n",
    "import pandas as pd\n",
    "import numpy as np\n",
    "import matplotlib\n",
    "matplotlib.use('Agg')\n",
    "\n",
    "graph_type = input(\"For histogram, type h. For CDF, type c.\\n\")\n",
    "\n",
    "if graph_type == \"h\":\n",
    "    min = input(\"Please enter a minimum value:\\n\")\n",
    "    max = input(\"Please enter a maximum value:\\n\")\n",
    "    bin_size = input(\"Please enter a bin size:\\n\")\n",
    "# elif graph_type == \"c\":\n",
    "else:\n",
    "    print(\"That was not an option\")\n",
    "\n",
    "column_names = [\"Grades\"]\n",
    "df = pd.read_csv('~/Bounties/bounties/cdf-histogram/grades.txt', delimiter = \"\\n\", names = column_names)\n",
    "print(df)"
   ],
   "outputs": [
    {
     "output_type": "stream",
     "name": "stdout",
     "text": [
      "    Grades\n",
      "0     40.9\n",
      "1     66.3\n",
      "2     59.6\n",
      "3     78.9\n",
      "4     78.5\n",
      "5     80.0\n",
      "6     91.0\n",
      "7     49.9\n",
      "8     89.8\n",
      "9     93.7\n",
      "10    96.1\n",
      "11    87.6\n",
      "12    82.5\n",
      "13    95.5\n",
      "14    83.6\n",
      "15    84.2\n",
      "16    83.8\n",
      "17    84.2\n",
      "18    90.0\n",
      "19    86.4\n",
      "20    79.9\n",
      "21    80.9\n",
      "22    86.9\n",
      "23    86.5\n",
      "24    90.7\n",
      "25    84.1\n",
      "26    85.4\n",
      "27    95.1\n",
      "28    94.4\n",
      "29    73.4\n",
      "30    92.8\n",
      "31    95.0\n",
      "32    95.2\n",
      "33    96.1\n",
      "34    95.3\n",
      "35    91.4\n",
      "36    82.7\n",
      "37    98.4\n",
      "38    93.7\n",
      "39    86.9\n",
      "40    95.0\n",
      "41    97.2\n",
      "42    95.0\n",
      "43    91.8\n",
      "44    93.4\n",
      "45    94.3\n",
      "46    94.6\n",
      "47    91.2\n",
      "48    97.1\n",
      "49    96.4\n"
     ]
    }
   ],
   "metadata": {}
  },
  {
   "cell_type": "code",
   "execution_count": 3,
   "source": [
    "print(\"penis\")"
   ],
   "outputs": [
    {
     "output_type": "stream",
     "name": "stdout",
     "text": [
      "penis\n"
     ]
    }
   ],
   "metadata": {}
  },
  {
   "cell_type": "code",
   "execution_count": null,
   "source": [],
   "outputs": [],
   "metadata": {}
  }
 ]
}