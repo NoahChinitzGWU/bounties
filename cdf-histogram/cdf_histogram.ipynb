{
 "metadata": {
  "language_info": {
   "codemirror_mode": {
    "name": "ipython",
    "version": 3
   },
   "file_extension": ".py",
   "mimetype": "text/x-python",
   "name": "python",
   "nbconvert_exporter": "python",
   "pygments_lexer": "ipython3",
   "version": "3.8.5"
  },
  "orig_nbformat": 4,
  "kernelspec": {
   "name": "python3",
   "display_name": "Python 3.8.5 64-bit"
  },
  "interpreter": {
   "hash": "916dbcbb3f70747c44a77c7bcd40155683ae19c65e1c03b4aa3499c5328201f1"
  }
 },
 "nbformat": 4,
 "nbformat_minor": 2,
 "cells": [
  {
   "cell_type": "code",
   "execution_count": 10,
   "source": [
    "import pandas as pd\n",
    "import numpy as np\n",
    "import matplotlib\n",
    "matplotlib.use('Agg')\n",
    "%matplotlib inline\n",
    "\n",
    "graph_type = input(\"For histogram, type h. For CDF, type c.\\n\")\n",
    "\n",
    "if graph_type == \"h\":\n",
    "    min = input(\"Please enter a minimum value:\\n\")\n",
    "    max = input(\"Please enter a maximum value:\\n\")\n",
    "    bin_size = input(\"Please enter a bin size:\\n\")\n",
    "# elif graph_type == \"c\":\n",
    "else:\n",
    "    print(\"That was not an option\")\n",
    "\n",
    "column_names = [\"Grades\"]\n",
    "df = pd.read_csv('~/Bounties/bounties/cdf-histogram/grades.txt', delimiter = \"\\n\", names = column_names)\n",
    "\n",
    "df.hist(column=\"Grades\")\n"
   ],
   "outputs": [
    {
     "output_type": "execute_result",
     "data": {
      "text/plain": [
       "array([[<matplotlib.axes._subplots.AxesSubplot object at 0x7fe0229f3b50>]],\n",
       "      dtype=object)"
      ]
     },
     "metadata": {},
     "execution_count": 10
    },
    {
     "output_type": "display_data",
     "data": {
      "text/plain": [
       "<Figure size 432x288 with 1 Axes>"
      ],
      "image/png": "[encoded data removed]"
     },
     "metadata": {
      "needs_background": "light"
     }
    }
   ],
   "metadata": {}
  }
 ]
}